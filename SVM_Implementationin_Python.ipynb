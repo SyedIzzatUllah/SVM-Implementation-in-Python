{
  "nbformat": 4,
  "nbformat_minor": 0,
  "metadata": {
    "colab": { 
      "name": "SVM Implementationin Python.ipynb",
      "provenance": [],
      "authorship_tag": "ABX9TyOjIPNYdRwjUemvV2dPsPtm",
      "include_colab_link": true
    }, 
    "kernelspec": {
      "name": "python3",
      "display_name": "Python 3"
    },
    "language_info": {
      "name": "python"
    }
  },
  "cells": [
    {
      "cell_type": "markdown",
      "metadata": {
        "id": "view-in-github",
        "colab_type": "text" 
      },
      "source": [
        "<a href=\"https://colab.research.google.com/github/SyedIzzatUllah/SVM-Implementation-in-Python/blob/main/SVM_Implementationin_Python.ipynb\" target=\"_parent\"><img src=\"https://colab.research.google.com/assets/colab-badge.svg\" alt=\"Open In Colab\"/></a>"
      ]
    },
    {
      "cell_type": "code",
      "execution_count": 1,
      "metadata": {
        "id": "nvoZmLwV4UgW"
      },
      "outputs": [],
      "source": [
        "# load libaries\n",
        "import numpy as np\n",
        "import math"
      ]
    },
    {
      "cell_type": "code",
      "source": [
        "class SVM:\n",
        "\n",
        "\tdef fit(self, data ):\n",
        "\n",
        "\t\t# Our goal is to find out w ( Direction ) and b ( Interception ) for optimial hyperplane wx+b\n",
        "\t\t# for that, we'll try various w and b values\n",
        "\n",
        "\t\tb_step_size = 2\n",
        "\t\tb_multiple = 5\n",
        "\n",
        "\t\t# finding possiblity of hyperplane in left top, right top, left bottom and right bottom axes. \n",
        "\t\taxes = [ [1,1],[-1,1],[-1,-1],[1,-1] ]\n",
        "\n",
        "\n",
        "\t\t# let's find out maximum and minimum feature value\n",
        "\n",
        "\t\tfeatures = np.concatenate((data[-1],data[1]))\n",
        "\t\tmax_feature_value = np.max(features)\n",
        "\t\tmin_feature_value = np.min(features)\n",
        "\t\tlearning_rate = max_feature_value * .001\n",
        "\n",
        "\n",
        "\t\t# Possible b values\n",
        "\t\tb_range = np.arange( -1 * (max_feature_value * b_step_size), max_feature_value * b_step_size, learning_rate * b_multiple )\n",
        "\n",
        "\t\t# this is just assumation for starting point.\n",
        "\t\tw_optimum = max_feature_value / 2\n",
        "\t\tw = np.array([w_optimum, w_optimum])\n",
        "\t\toptimized = False\n",
        "\t\thyperplane_collection = {}\n",
        "\t\twhile not optimized:\n",
        "\t\t\tfor b in b_range:\n",
        "\t\t\t\tfor section in axes:\n",
        "\t\t\t\t\tmay_be_w = w*section\n",
        "\t\t\t\t\tsuitable_hyperplane = True\n",
        "\t\t\t\t\t\n",
        "\t\t\t\t\tfor one in data:\n",
        "\t\t\t\t\t\tfor feature_data in data[one]:\n",
        "\t\t\t\t\t\t\tif one*(np.dot(may_be_w,feature_data) +b) < 1:\n",
        "\t\t\t\t\t\t\t\t# if any feature data is within the hyperplane margin, that's not the suitable hyperplane.\n",
        "\t\t\t\t\t\t\t\tsuitable_hyperplane = False\n",
        "\n",
        "\t\t\t\t\tif suitable_hyperplane:\n",
        "\n",
        "\t\t\t\t\t\t# Calculate length of hyperplane direction\n",
        "\t\t\t\t\t\thyperplane_norm = np.linalg.norm(may_be_w) # || w ||\n",
        "\t\t\t\t\t\t\n",
        "\t\t\t\t\t\t# we need to keep track of these possible hyperplane. later, we'll choose which has minimum hyperplace norm as optimizal hyperplane.\n",
        "\t\t\t\t\t\thyperplane_collection[ hyperplane_norm ] = [may_be_w,b] # Save w and b\t\n",
        "\n",
        "\t\t\tif w[0] < 0:\n",
        "\t\t\t\toptimized = True\n",
        "\t\t\telse:\n",
        "\t\t\t\tw = w-learning_rate\t\n",
        "\n",
        "\t\t# now sort by norm length\n",
        "\t\tnorms = sorted([n for n in hyperplane_collection])\n",
        "\t\tminimum_norm = norms[0]\n",
        "\n",
        "\t\t# This one is optimizal hyperplane\n",
        "\t\toptimal_hyperplane = hyperplane_collection[minimum_norm]\n",
        "\n",
        "\t\tself.w = optimal_hyperplane[0]\n",
        "\t\tself.b = optimal_hyperplane[1]\n",
        "\t\t\n",
        "\t#fit(data)\n",
        "\n",
        "\tdef calculate_y(self,x,w,b,v):\n",
        "\t\t# w.x+b = v\n",
        "\t\t# w0x0 + w1x1 + b = v\n",
        "\t\t# x1 = (v - w0x0 - b)/w1\n",
        "\t\ty = (v - w[0] * x - b) / w[1]\n",
        "\t\treturn y\n",
        "\n",
        "\tdef show_hyperplane(self,data):\n",
        "\n",
        "\t\timport matplotlib.pyplot as plt\n",
        "\t\t\n",
        "\t\tw = self.w\n",
        "\t\tb = self.b\n",
        "\n",
        "\t\tfeatures = np.concatenate((data[-1],data[1]))\n",
        "\t\t\n",
        "\t\tx1 = np.max(features)\n",
        "\t\ty1 = self.calculate_y(x1, w, b, 0)\n",
        "\t\t\n",
        "\t\tx2 = np.min(features)\n",
        "\t\ty2 = self.calculate_y(x2, w, b, 0)\n",
        "\t\t\n",
        "\t\tfigure = plt.figure()\n",
        "\t\tax = figure.add_subplot(1,1,1)\n",
        "\n",
        "\t\tplt.scatter(data[-1][:,0],data[-1][:,1],marker=\"o\", c=\"r\")\n",
        "\t\tplt.scatter(data[1][:,0],data[1][:,1],marker=\"+\", c=\"g\")\n",
        "\t\t\n",
        "\t\t# This line should clearly separate male and female dataset\n",
        "\t\tax.plot([x1,x2],[y1,y2],'k')\n",
        "\t\t\n",
        "\t\tplt.show()\n",
        "\t\t\n",
        "\n",
        "\tdef predict(self,features):\n",
        "\t\tw = self.w\n",
        "\t\tb = self.b\n",
        "\t\tclassification = np.sign(np.dot(np.array(features),w) + b)\n",
        "\t\treturn classification"
      ],
      "metadata": {
        "id": "qh21i2j34foS"
      },
      "execution_count": 2,
      "outputs": []
    },
    {
      "cell_type": "markdown",
      "source": [
        "**Usage of SVM:**"
      ],
      "metadata": {
        "id": "Ul32QsnU4wEe"
      }
    },
    {
      "cell_type": "code",
      "source": [
        "# Sample Data - (weight (kg), Height (cm), gender)\n",
        "sample_data = np.array([\n",
        "\t[70,175,'male'],\n",
        "\t[60,140,'female'],\n",
        "\t[80,185,'male'],\n",
        "\t[75,180,'male'],\n",
        "\t[65,150,'female'],\n",
        "\t[70,155,'female'],\n",
        "\t[75,160,'female'],\n",
        "\t[85,195,'male'],\n",
        "\t[55,170,'female'],\n",
        "\t[65,175,'female'],\n",
        "\t])"
      ],
      "metadata": {
        "id": "Md5DRPDZ47w_"
      },
      "execution_count": 3,
      "outputs": []
    },
    {
      "cell_type": "code",
      "source": [
        "features = sample_data[:,:2].astype('float')\n",
        "target = sample_data[:,2]\n",
        "\n",
        "# Assign -1 to female and +1 to male\n",
        "plusone = []\n",
        "minusone = []\n",
        "\n",
        "for i,gender in enumerate(target):\n",
        "\n",
        "\tif gender == 'male':\n",
        "\t\tplusone.append(features[i])\n",
        "\telse:\n",
        "\t\tminusone.append(features[i])\n",
        "\n",
        "data = { -1: np.array(minusone), 1: np.array(plusone) }\n",
        "classify = { -1: 'Female', 1: 'Male' }"
      ],
      "metadata": {
        "id": "QK0OGiSg4-He"
      },
      "execution_count": 4,
      "outputs": []
    },
    {
      "cell_type": "code",
      "source": [
        "# Target - What is gender if weight is 50kg and height is 172cm ?\n",
        "guess = [[50,172]]"
      ],
      "metadata": {
        "id": "QRaIMphA5ARu"
      },
      "execution_count": 5,
      "outputs": []
    },
    {
      "cell_type": "code",
      "source": [
        "# Setup SVM Model\n",
        "model = SVM()"
      ],
      "metadata": {
        "id": "mZ6AfYpk5B95"
      },
      "execution_count": 6,
      "outputs": []
    },
    {
      "cell_type": "code",
      "source": [
        "# Train the Model\n",
        "model.fit(data)"
      ],
      "metadata": {
        "id": "1VdD1clg5Dtl"
      },
      "execution_count": 7,
      "outputs": []
    },
    {
      "cell_type": "code",
      "source": [
        "# Output\n",
        "prediction = model.predict(guess).astype('int')"
      ],
      "metadata": {
        "id": "C5nW7Ucy5Fx8"
      },
      "execution_count": 8,
      "outputs": []
    },
    {
      "cell_type": "code",
      "source": [
        "print(\"Gender is %s\" %(classify[prediction[0]]))"
      ],
      "metadata": {
        "colab": {
          "base_uri": "https://localhost:8080/"
        },
        "id": "i8S1wVKk5F5m",
        "outputId": "3d4ff10a-334e-4bc3-c075-e745f054a368"
      },
      "execution_count": 9,
      "outputs": [
        {
          "output_type": "stream",
          "name": "stdout",
          "text": [
            "Gender is Female\n"
          ]
        }
      ]
    },
    {
      "cell_type": "code",
      "source": [
        "# Show optimial hyperplane. \n",
        "model.show_hyperplane(data)"
      ],
      "metadata": {
        "colab": {
          "base_uri": "https://localhost:8080/",
          "height": 266
        },
        "id": "aTMqJQij5KCf",
        "outputId": "04625907-bf36-4d3d-cdfa-0c1284f6b6dc"
      },
      "execution_count": 10,
      "outputs": [
        {
          "output_type": "display_data",
          "data": {
            "text/plain": [
              "<Figure size 432x288 with 1 Axes>"
            ],
            "image/png": "[encoded data removed]"
          },
          "metadata": {
            "needs_background": "light"
          }
        }
      ]
    },
    {
      "cell_type": "code",
      "source": [
        ""
      ],
      "metadata": {
        "id": "snj5T4CL5KXN"
      },
      "execution_count": null,
      "outputs": []
    }
  ]
}
